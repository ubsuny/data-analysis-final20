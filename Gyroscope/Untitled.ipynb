{
 "cells": [
  {
   "cell_type": "code",
   "execution_count": 10,
   "metadata": {},
   "outputs": [],
   "source": [
    "# first we import python libraries\n",
    "import numpy as np\n",
    "import matplotlib.pyplot as plt\n",
    "import sys\n",
    "\n",
    "# then import python files which are in the 'codes' folder\n",
    "sys.path.append('codes')\n",
    "from fitting import *\n",
    "from read_data import *"
   ]
  },
  {
   "cell_type": "code",
   "execution_count": 11,
   "metadata": {},
   "outputs": [],
   "source": [
    "d=read_data('data\\z_acc.csv')"
   ]
  },
  {
   "cell_type": "code",
   "execution_count": 12,
   "metadata": {},
   "outputs": [
    {
     "data": {
      "text/plain": [
       "array([[ 0.00000000e+00,  1.00400000e-02,  2.00810000e-02, ...,\n",
       "         9.82777192e+00,  9.83781192e+00,  9.84785192e+00],\n",
       "       [-7.20227137e-02, -5.01043685e-02, -2.20691711e-02, ...,\n",
       "        -2.91183740e-01,  2.52648354e-01,  5.20533323e-01],\n",
       "       [-5.56523092e-02, -4.98237163e-02, -4.72167321e-02, ...,\n",
       "         6.00730926e-02, -1.49042040e-01, -1.90411851e-01],\n",
       "       [-2.06314549e-01, -2.00300857e-01, -1.87016740e-01, ...,\n",
       "         1.98704796e+01,  1.99988708e+01,  2.01015606e+01],\n",
       "       [ 2.25499765e-01,  2.12398879e-01,  1.94143579e-01, ...,\n",
       "         1.98727038e+01,  2.00010220e+01,  2.01092006e+01]])"
      ]
     },
     "execution_count": 12,
     "metadata": {},
     "output_type": "execute_result"
    }
   ],
   "source": [
    "d"
   ]
  },
  {
   "cell_type": "code",
   "execution_count": null,
   "metadata": {},
   "outputs": [],
   "source": []
  }
 ],
 "metadata": {
  "kernelspec": {
   "display_name": "Python 3",
   "language": "python",
   "name": "python3"
  },
  "language_info": {
   "codemirror_mode": {
    "name": "ipython",
    "version": 3
   },
   "file_extension": ".py",
   "mimetype": "text/x-python",
   "name": "python",
   "nbconvert_exporter": "python",
   "pygments_lexer": "ipython3",
   "version": "3.8.3"
  }
 },
 "nbformat": 4,
 "nbformat_minor": 4
}
